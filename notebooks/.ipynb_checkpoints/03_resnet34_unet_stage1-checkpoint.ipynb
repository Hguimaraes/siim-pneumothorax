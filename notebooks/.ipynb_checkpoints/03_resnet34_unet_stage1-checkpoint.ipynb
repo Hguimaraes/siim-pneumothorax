{
 "cells": [
  {
   "cell_type": "code",
   "execution_count": 1,
   "metadata": {},
   "outputs": [],
   "source": [
    "import os\n",
    "import gc\n",
    "import time\n",
    "import numpy as np\n",
    "import pandas as pd\n",
    "from glob import glob\n",
    "import IPython.display as ipd\n",
    "import matplotlib.pyplot as plt\n",
    "from sklearn.model_selection import StratifiedKFold\n",
    "\n",
    "os.chdir(os.path.dirname(\"../src/\"))"
   ]
  },
  {
   "cell_type": "code",
   "execution_count": 2,
   "metadata": {},
   "outputs": [],
   "source": [
    "import warnings\n",
    "warnings.filterwarnings(\"ignore\")"
   ]
  },
  {
   "cell_type": "code",
   "execution_count": 3,
   "metadata": {},
   "outputs": [],
   "source": [
    "import torch\n",
    "import torch.optim as optim\n",
    "import torch.nn as nn\n",
    "\n",
    "# Set seeds for reproducibility\n",
    "SEED = 42\n",
    "np.random.seed(SEED)\n",
    "torch.manual_seed(SEED)\n",
    "torch.backends.cudnn.deterministic = True\n",
    "torch.backends.cudnn.benchmark = False"
   ]
  },
  {
   "cell_type": "code",
   "execution_count": 4,
   "metadata": {},
   "outputs": [],
   "source": [
    "from albumentations.pytorch import ToTensor"
   ]
  },
  {
   "cell_type": "code",
   "execution_count": 5,
   "metadata": {},
   "outputs": [],
   "source": [
    "from siim_pneumothorax.utils import parse_dicom\n",
    "from siim_pneumothorax.utils import ConfigObject\n",
    "from siim_pneumothorax.dataset import get_pneumo_loaders\n",
    "from siim_pneumothorax.losses import Dice_metric\n",
    "from siim_pneumothorax.losses import IoU_metric\n",
    "from siim_pneumothorax.losses import MixedLoss\n",
    "from siim_pneumothorax.losses import MixedFocalLoss\n",
    "from siim_pneumothorax.losses import DiceLoss\n",
    "from siim_pneumothorax.losses import FocalLoss\n",
    "from siim_pneumothorax.models import VanillaUNet"
   ]
  },
  {
   "cell_type": "code",
   "execution_count": 6,
   "metadata": {},
   "outputs": [],
   "source": [
    "import segmentation_models_pytorch as smp"
   ]
  },
  {
   "cell_type": "markdown",
   "metadata": {},
   "source": [
    "# Configuration"
   ]
  },
  {
   "cell_type": "code",
   "execution_count": 7,
   "metadata": {},
   "outputs": [],
   "source": [
    "# Change \n",
    "# CONFIG_SAVE_PATH\n",
    "# NUM_EPOCHS\n",
    "# GRID_SIZE\n",
    "# lr_scheduler\n",
    "\n",
    "params = {\n",
    "    # Loader parameters\n",
    "    'loader_params': {\n",
    "        'img_size': 128,\n",
    "        'batch_size': 8,\n",
    "        'shuffle': True,\n",
    "        'num_workers': 8,\n",
    "        'rgb_channel': False,\n",
    "        'grid_size': 16\n",
    "    },\n",
    "    \n",
    "    # Loss/metric parameters\n",
    "    'alpha': 0.75,\n",
    "    'gamma': 2,\n",
    "    'smooth': 1,\n",
    "    \n",
    "    # training parameters\n",
    "    'n_folds': 3,\n",
    "    'num_epochs': 30,\n",
    "    'checkpoint_path': '../models/model_checkpoint',\n",
    "    'config_save_path': '../models/stage_1/stage_1_config'\n",
    "}"
   ]
  },
  {
   "cell_type": "markdown",
   "metadata": {},
   "source": [
    "# Data preparation"
   ]
  },
  {
   "cell_type": "code",
   "execution_count": 8,
   "metadata": {},
   "outputs": [],
   "source": [
    "train_fns = sorted(glob('../data/siim/dicom-images-train/*/*/*.dcm'))\n",
    "test_fns = sorted(glob('../data/siim/dicom-images-test/*/*/*.dcm'))"
   ]
  },
  {
   "cell_type": "code",
   "execution_count": 9,
   "metadata": {},
   "outputs": [],
   "source": [
    "train_rle_codes = pd.read_csv('../data/siim/train-rle.csv')\n",
    "train_rle_codes.columns = [\"ImageId\", \"EncodedPixels\"]\n",
    "train_rle_codes['has_pneumothorax'] = (train_rle_codes.EncodedPixels != \"-1\").astype(int)"
   ]
  },
  {
   "cell_type": "code",
   "execution_count": 10,
   "metadata": {},
   "outputs": [],
   "source": [
    "train_dataset = pd.DataFrame([parse_dicom(x, train_rle_codes) for x in  train_fns])"
   ]
  },
  {
   "cell_type": "code",
   "execution_count": 11,
   "metadata": {},
   "outputs": [],
   "source": [
    "test_dataset = pd.DataFrame([parse_dicom(x, is_training=False) for x in  test_fns])"
   ]
  },
  {
   "cell_type": "code",
   "execution_count": 12,
   "metadata": {},
   "outputs": [],
   "source": [
    "train_dataset.dropna(inplace=True)"
   ]
  },
  {
   "cell_type": "code",
   "execution_count": 13,
   "metadata": {},
   "outputs": [],
   "source": [
    "# train_dataset = train_dataset.sample(80)"
   ]
  },
  {
   "cell_type": "markdown",
   "metadata": {},
   "source": [
    "# Model, Loss function, Optimizer and LR Scheduler"
   ]
  },
  {
   "cell_type": "code",
   "execution_count": 14,
   "metadata": {},
   "outputs": [],
   "source": [
    "def get_parameters(params):\n",
    "    device = 'cuda'\n",
    "    model = smp.Unet('resnet34', encoder_weights='imagenet', in_channels=1)\n",
    "    model = model.to(device)\n",
    "    \n",
    "    # Build optimizer\n",
    "    optimizer = optim.Adam(model.parameters(), lr=5e-4)\n",
    "    \n",
    "    # LR scheduler\n",
    "    lr_scheduler = optim.lr_scheduler.ReduceLROnPlateau(optimizer, mode='min', factor=0.5, patience=3)\n",
    "\n",
    "    # m_loss = MixedLoss(params['smooth'])\n",
    "    m_loss = MixedLoss(params['smooth'])\n",
    "    \n",
    "    return device, model, optimizer, lr_scheduler, m_loss"
   ]
  },
  {
   "cell_type": "markdown",
   "metadata": {},
   "source": [
    "# Setup Execution"
   ]
  },
  {
   "cell_type": "code",
   "execution_count": 15,
   "metadata": {},
   "outputs": [],
   "source": [
    "def train(config, model, train_loader, valid_loader, \n",
    "          loss_fn, lr_scheduler, optimizer, device, debug=True):\n",
    "\n",
    "    history = {\n",
    "        'loss': [], 'val_loss': [], 'dice': [], \n",
    "        'val_dice': [], 'iou': [], 'val_iou': []\n",
    "    }\n",
    "    \n",
    "    dice_metric = Dice_metric()\n",
    "    iou_metric = IoU_metric()\n",
    "    \n",
    "    for epoch in range(config.num_epochs):\n",
    "        loss, dice, iou = 0.0, [], []\n",
    "\n",
    "        start_time = time.time()\n",
    "        model.train()\n",
    "        \n",
    "        for idx, (img, mask) in enumerate(train_loader):\n",
    "            img = img.type(torch.FloatTensor).to(device)\n",
    "            mask = mask.type(torch.FloatTensor).to(device)\n",
    "            optimizer.zero_grad()\n",
    "            recon_batch = model(img)\n",
    "            loss_batch = loss_fn(recon_batch, mask)\n",
    "            dice_batch = dice_metric(recon_batch, mask)\n",
    "            iou_batch = iou_metric(recon_batch, mask)\n",
    "            \n",
    "            loss_batch.backward()\n",
    "            optimizer.step()\n",
    "\n",
    "            # Compute metrics to all batch\n",
    "            loss += loss_batch.item()*len(img)\n",
    "            dice.append(dice_batch.item())\n",
    "            iou.append(iou_batch.item())\n",
    "\n",
    "            if debug:\n",
    "                print(\"step: {:4d} of {:4d} | loss: {:.4f} | dice: {:.4f} | iou: {:.4f} \".format(idx + 1, len(train_loader),\n",
    "                    loss_batch.item()*len(img), dice_batch.item(), iou_batch.item()), end='\\r')\n",
    "\n",
    "        loss /= len(train_loader)\n",
    "        dice = np.nanmean(dice)\n",
    "        iou = np.nanmean(iou)\n",
    "\n",
    "        val_loss, val_dice, val_iou, comparison = evaluate(config, model, valid_loader, loss_fn, device)\n",
    "        lr_scheduler.step(val_loss)\n",
    "        elapsed_time = time.time() - start_time\n",
    "        \n",
    "        # Display training Metrics\n",
    "        print('====> Epoch: {:02d} Loss: {:.3f} | val_loss: {:.3f} | val_dice: {:.3f} | val_iou: {:.3f} | Elapsed time: {:.4f}'.format(\n",
    "          epoch+1, loss, val_loss, val_dice, val_iou, elapsed_time))\n",
    "        \n",
    "        # Compute the statistics of the last epoch and save to history\n",
    "        history['loss'].append(loss)\n",
    "        history['val_loss'].append(val_loss)\n",
    "        history['dice'].append(dice)\n",
    "        history['val_dice'].append(val_dice)\n",
    "        history['iou'].append(iou)\n",
    "        history['val_iou'].append(val_iou)\n",
    "\n",
    "        # Checkpoint the model\n",
    "        torch.save(model.state_dict(), config.checkpoint_path)\n",
    "        \n",
    "    return history"
   ]
  },
  {
   "cell_type": "code",
   "execution_count": 16,
   "metadata": {},
   "outputs": [],
   "source": [
    "def evaluate(config, model, heldout_loader, loss_fn, device):\n",
    "    model.eval()\n",
    "    heldout_loss = 0\n",
    "    heldout_dice = []\n",
    "    heldout_iou = []\n",
    "    \n",
    "    dice_metric = Dice_metric()\n",
    "    iou_metric = IoU_metric()\n",
    "\n",
    "    with torch.no_grad():\n",
    "        for i, (img, mask) in enumerate(heldout_loader):\n",
    "            img = img.type(torch.FloatTensor).to(device)\n",
    "            mask = mask.type(torch.FloatTensor).to(device)\n",
    "            recon_batch = model(img)\n",
    "            heldout_loss += loss_fn(recon_batch, mask).item()*len(img)\n",
    "            heldout_dice.append(dice_metric(recon_batch, mask).item())\n",
    "            heldout_iou.append(iou_metric(recon_batch, mask).item())\n",
    "\n",
    "    heldout_loss /= len(heldout_loader)\n",
    "    heldout_dice = np.nanmean(heldout_dice)\n",
    "    heldout_iou = np.nanmean(heldout_iou)\n",
    "    \n",
    "    n = min(img.size(0), 16)\n",
    "    comparison = [img[:n], recon_batch[:n], mask[:n]]\n",
    "    \n",
    "    return heldout_loss, heldout_dice, heldout_iou, comparison"
   ]
  },
  {
   "cell_type": "code",
   "execution_count": 17,
   "metadata": {},
   "outputs": [],
   "source": [
    "def KFoldTrainer(dataset, params):\n",
    "    metrics = []\n",
    "    skf = StratifiedKFold(n_splits=params['n_folds'])\n",
    "\n",
    "    # Start kFold\n",
    "    for fold, (train_index, val_index) in enumerate(skf.split(dataset, dataset['has_pneumothorax'])):\n",
    "        print(\"======= Fold {}/{} =======\".format(fold+1, params['n_folds']))\n",
    "        train_dataset, val_dataset = dataset.iloc[train_index], dataset.iloc[val_index]\n",
    "        \n",
    "        # Balance the dataset\n",
    "        g = train_dataset.groupby('has_pneumothorax')\n",
    "        train_dataset = g.apply(lambda x: x.sample(g.size().min()).reset_index(drop=True))\n",
    "        \n",
    "        # Configure parameters\n",
    "        config = {\n",
    "            'smooth': params[\"smooth\"],\n",
    "            'num_epochs': params['num_epochs'],\n",
    "            'checkpoint_path': '{}.pt'.format(params['checkpoint_path']),\n",
    "            'config_save_path': '{}_fold_{}.pt'.format(params['config_save_path'], fold)\n",
    "        }\n",
    "\n",
    "        # Create data loaders\n",
    "        train_loader = get_pneumo_loaders(df=train_dataset, is_train=True, **params['loader_params'])\n",
    "        val_loader = get_pneumo_loaders(df=val_dataset, is_train=False, **params['loader_params'])\n",
    "\n",
    "        # Start training\n",
    "        config = ConfigObject(**config)\n",
    "        device, model, optimizer, lr_scheduler, m_loss = get_parameters(params)\n",
    "        history = train(\n",
    "            config, model, train_loader, val_loader, \n",
    "            m_loss, lr_scheduler, optimizer, device, debug=True\n",
    "        )\n",
    "\n",
    "        metrics.append(history)\n",
    "        torch.save({\n",
    "            'model_state_dict': model.state_dict(),\n",
    "            'optimizer_state_dict': optimizer.state_dict(),\n",
    "        }, config.config_save_path)\n",
    "        print(\"\") # Break line\n",
    "\n",
    "    return metrics"
   ]
  },
  {
   "cell_type": "markdown",
   "metadata": {},
   "source": [
    "# Train"
   ]
  },
  {
   "cell_type": "code",
   "execution_count": 18,
   "metadata": {
    "scrolled": false
   },
   "outputs": [
    {
     "name": "stdout",
     "output_type": "stream",
     "text": [
      "======= Fold 1/3 =======\n",
      "====> Epoch: 01 Loss: 8.535 | val_loss: 7.875 | val_dice: 0.062 | val_iou: 0.778 | Elapsed time: 40.3286\n",
      "====> Epoch: 02 Loss: 7.614 | val_loss: 10.210 | val_dice: 0.031 | val_iou: 0.778 | Elapsed time: 40.7004\n",
      "====> Epoch: 03 Loss: 7.457 | val_loss: 7.447 | val_dice: 0.106 | val_iou: 0.778 | Elapsed time: 40.2304\n",
      "====> Epoch: 04 Loss: 7.247 | val_loss: 7.489 | val_dice: 0.113 | val_iou: 0.778 | Elapsed time: 40.3469\n",
      "====> Epoch: 05 Loss: 7.293 | val_loss: 7.395 | val_dice: 0.117 | val_iou: 0.778 | Elapsed time: 40.5827\n",
      "====> Epoch: 06 Loss: 7.207 | val_loss: 7.141 | val_dice: 0.144 | val_iou: 0.778 | Elapsed time: 40.6899\n",
      "====> Epoch: 07 Loss: 7.181 | val_loss: 7.135 | val_dice: 0.144 | val_iou: 0.778 | Elapsed time: 40.6600\n",
      "====> Epoch: 08 Loss: 7.108 | val_loss: 7.158 | val_dice: 0.139 | val_iou: 0.778 | Elapsed time: 40.6337\n",
      "====> Epoch: 09 Loss: 7.123 | val_loss: 7.051 | val_dice: 0.154 | val_iou: 0.778 | Elapsed time: 40.7424\n",
      "====> Epoch: 10 Loss: 7.049 | val_loss: 6.787 | val_dice: 0.177 | val_iou: 0.778 | Elapsed time: 40.3803\n",
      "====> Epoch: 11 Loss: 7.035 | val_loss: 7.239 | val_dice: 0.141 | val_iou: 0.778 | Elapsed time: 40.4022\n",
      "====> Epoch: 12 Loss: 6.958 | val_loss: 7.261 | val_dice: 0.141 | val_iou: 0.778 | Elapsed time: 40.8496\n",
      "====> Epoch: 13 Loss: 6.955 | val_loss: 7.408 | val_dice: 0.118 | val_iou: 0.778 | Elapsed time: 40.3333\n",
      "====> Epoch: 14 Loss: 6.870 | val_loss: 7.201 | val_dice: 0.150 | val_iou: 0.778 | Elapsed time: 40.0661\n",
      "====> Epoch: 15 Loss: 6.819 | val_loss: 7.113 | val_dice: 0.153 | val_iou: 0.778 | Elapsed time: 40.4801\n",
      "====> Epoch: 16 Loss: 6.827 | val_loss: 6.814 | val_dice: 0.182 | val_iou: 0.778 | Elapsed time: 40.9068\n",
      "====> Epoch: 17 Loss: 6.819 | val_loss: 6.968 | val_dice: 0.167 | val_iou: 0.778 | Elapsed time: 40.8346\n",
      "====> Epoch: 18 Loss: 6.721 | val_loss: 6.564 | val_dice: 0.208 | val_iou: 0.778 | Elapsed time: 40.6045\n",
      "====> Epoch: 19 Loss: 6.822 | val_loss: 6.861 | val_dice: 0.179 | val_iou: 0.778 | Elapsed time: 41.5130\n",
      "====> Epoch: 20 Loss: 6.713 | val_loss: 6.708 | val_dice: 0.191 | val_iou: 0.778 | Elapsed time: 39.7071\n",
      "====> Epoch: 21 Loss: 6.733 | val_loss: 6.733 | val_dice: 0.193 | val_iou: 0.778 | Elapsed time: 39.6715\n",
      "====> Epoch: 22 Loss: 6.725 | val_loss: 6.838 | val_dice: 0.182 | val_iou: 0.778 | Elapsed time: 39.6872\n",
      "====> Epoch: 23 Loss: 6.630 | val_loss: 6.581 | val_dice: 0.206 | val_iou: 0.778 | Elapsed time: 40.3077\n",
      "====> Epoch: 24 Loss: 6.645 | val_loss: 6.536 | val_dice: 0.212 | val_iou: 0.778 | Elapsed time: 40.7691\n",
      "====> Epoch: 25 Loss: 6.701 | val_loss: 6.509 | val_dice: 0.214 | val_iou: 0.778 | Elapsed time: 41.0281\n",
      "====> Epoch: 26 Loss: 6.573 | val_loss: 6.492 | val_dice: 0.216 | val_iou: 0.778 | Elapsed time: 39.8865\n",
      "====> Epoch: 27 Loss: 6.650 | val_loss: 6.578 | val_dice: 0.208 | val_iou: 0.778 | Elapsed time: 40.4906\n",
      "====> Epoch: 28 Loss: 6.551 | val_loss: 6.367 | val_dice: 0.228 | val_iou: 0.778 | Elapsed time: 39.6025\n",
      "====> Epoch: 29 Loss: 6.692 | val_loss: 6.394 | val_dice: 0.226 | val_iou: 0.778 | Elapsed time: 40.5264\n",
      "====> Epoch: 30 Loss: 6.468 | val_loss: 6.505 | val_dice: 0.215 | val_iou: 0.778 | Elapsed time: 39.8078\n",
      "\n",
      "======= Fold 2/3 =======\n",
      "====> Epoch: 01 Loss: 8.483 | val_loss: 8.187 | val_dice: 0.058 | val_iou: 0.778 | Elapsed time: 39.7601\n",
      "====> Epoch: 02 Loss: 7.501 | val_loss: 7.270 | val_dice: 0.116 | val_iou: 0.778 | Elapsed time: 41.6232\n",
      "====> Epoch: 03 Loss: 7.390 | val_loss: 7.206 | val_dice: 0.124 | val_iou: 0.778 | Elapsed time: 42.4501\n",
      "====> Epoch: 04 Loss: 7.193 | val_loss: 7.015 | val_dice: 0.149 | val_iou: 0.778 | Elapsed time: 42.4126\n",
      "====> Epoch: 05 Loss: 7.273 | val_loss: 7.411 | val_dice: 0.116 | val_iou: 0.778 | Elapsed time: 41.4111\n",
      "====> Epoch: 06 Loss: 7.250 | val_loss: 7.947 | val_dice: 0.089 | val_iou: 0.778 | Elapsed time: 40.4308\n",
      "====> Epoch: 07 Loss: 7.086 | val_loss: 7.518 | val_dice: 0.126 | val_iou: 0.778 | Elapsed time: 44.3979\n",
      "====> Epoch: 08 Loss: 7.062 | val_loss: 6.903 | val_dice: 0.164 | val_iou: 0.778 | Elapsed time: 40.5720\n",
      "====> Epoch: 09 Loss: 6.933 | val_loss: 7.032 | val_dice: 0.157 | val_iou: 0.778 | Elapsed time: 40.7998\n",
      "====> Epoch: 10 Loss: 6.964 | val_loss: 7.286 | val_dice: 0.138 | val_iou: 0.778 | Elapsed time: 40.6818\n",
      "====> Epoch: 11 Loss: 6.994 | val_loss: 6.893 | val_dice: 0.173 | val_iou: 0.778 | Elapsed time: 40.7321\n",
      "====> Epoch: 12 Loss: 6.929 | val_loss: 7.021 | val_dice: 0.159 | val_iou: 0.778 | Elapsed time: 40.3439\n",
      "====> Epoch: 13 Loss: 6.891 | val_loss: 6.707 | val_dice: 0.189 | val_iou: 0.778 | Elapsed time: 40.5917\n",
      "====> Epoch: 14 Loss: 6.871 | val_loss: 7.054 | val_dice: 0.156 | val_iou: 0.778 | Elapsed time: 40.5615\n",
      "====> Epoch: 15 Loss: 6.829 | val_loss: 7.106 | val_dice: 0.159 | val_iou: 0.778 | Elapsed time: 40.1493\n",
      "====> Epoch: 16 Loss: 6.683 | val_loss: 6.704 | val_dice: 0.190 | val_iou: 0.778 | Elapsed time: 40.4841\n",
      "====> Epoch: 17 Loss: 6.809 | val_loss: 7.144 | val_dice: 0.152 | val_iou: 0.778 | Elapsed time: 40.4133\n",
      "====> Epoch: 18 Loss: 6.873 | val_loss: 7.139 | val_dice: 0.154 | val_iou: 0.778 | Elapsed time: 40.7048\n",
      "====> Epoch: 19 Loss: 6.776 | val_loss: 6.623 | val_dice: 0.200 | val_iou: 0.778 | Elapsed time: 40.4301\n",
      "====> Epoch: 20 Loss: 6.727 | val_loss: 6.727 | val_dice: 0.186 | val_iou: 0.778 | Elapsed time: 40.2297\n",
      "====> Epoch: 21 Loss: 6.725 | val_loss: 6.788 | val_dice: 0.187 | val_iou: 0.778 | Elapsed time: 40.5431\n",
      "====> Epoch: 22 Loss: 6.625 | val_loss: 6.654 | val_dice: 0.195 | val_iou: 0.778 | Elapsed time: 40.3904\n",
      "====> Epoch: 23 Loss: 6.753 | val_loss: 6.907 | val_dice: 0.171 | val_iou: 0.778 | Elapsed time: 40.3265\n",
      "====> Epoch: 24 Loss: 6.591 | val_loss: 6.638 | val_dice: 0.202 | val_iou: 0.778 | Elapsed time: 41.2300\n",
      "====> Epoch: 25 Loss: 6.634 | val_loss: 6.681 | val_dice: 0.197 | val_iou: 0.778 | Elapsed time: 44.9236\n",
      "====> Epoch: 26 Loss: 6.638 | val_loss: 6.551 | val_dice: 0.211 | val_iou: 0.778 | Elapsed time: 55.7029\n",
      "====> Epoch: 27 Loss: 6.559 | val_loss: 6.759 | val_dice: 0.189 | val_iou: 0.778 | Elapsed time: 55.6472\n",
      "====> Epoch: 28 Loss: 6.658 | val_loss: 6.615 | val_dice: 0.203 | val_iou: 0.778 | Elapsed time: 55.9390\n",
      "====> Epoch: 29 Loss: 6.530 | val_loss: 6.551 | val_dice: 0.212 | val_iou: 0.778 | Elapsed time: 56.7769\n",
      "====> Epoch: 30 Loss: 6.530 | val_loss: 6.412 | val_dice: 0.227 | val_iou: 0.778 | Elapsed time: 55.6647\n",
      "\n",
      "======= Fold 3/3 =======\n",
      "====> Epoch: 01 Loss: 8.521 | val_loss: 7.843 | val_dice: 0.061 | val_iou: 0.778 | Elapsed time: 54.7724\n",
      "====> Epoch: 02 Loss: 7.559 | val_loss: 7.767 | val_dice: 0.077 | val_iou: 0.779 | Elapsed time: 53.1129\n",
      "====> Epoch: 03 Loss: 7.445 | val_loss: 7.302 | val_dice: 0.121 | val_iou: 0.779 | Elapsed time: 52.5783\n",
      "====> Epoch: 04 Loss: 7.327 | val_loss: 7.902 | val_dice: 0.093 | val_iou: 0.779 | Elapsed time: 52.9296\n",
      "====> Epoch: 05 Loss: 7.222 | val_loss: 7.617 | val_dice: 0.105 | val_iou: 0.779 | Elapsed time: 53.1289\n",
      "====> Epoch: 06 Loss: 7.161 | val_loss: 7.003 | val_dice: 0.157 | val_iou: 0.779 | Elapsed time: 56.9376\n",
      "====> Epoch: 07 Loss: 7.052 | val_loss: 7.042 | val_dice: 0.147 | val_iou: 0.779 | Elapsed time: 55.6194\n",
      "====> Epoch: 08 Loss: 7.060 | val_loss: 7.207 | val_dice: 0.142 | val_iou: 0.779 | Elapsed time: 57.1960\n",
      "====> Epoch: 09 Loss: 7.034 | val_loss: 7.086 | val_dice: 0.142 | val_iou: 0.779 | Elapsed time: 55.1604\n",
      "====> Epoch: 10 Loss: 7.013 | val_loss: 7.115 | val_dice: 0.147 | val_iou: 0.779 | Elapsed time: 56.5095\n",
      "====> Epoch: 11 Loss: 6.909 | val_loss: 6.891 | val_dice: 0.169 | val_iou: 0.779 | Elapsed time: 54.6989\n",
      "====> Epoch: 12 Loss: 6.639 | val_loss: 6.780 | val_dice: 0.185 | val_iou: 0.779 | Elapsed time: 53.3537\n",
      "====> Epoch: 13 Loss: 6.706 | val_loss: 6.766 | val_dice: 0.185 | val_iou: 0.779 | Elapsed time: 51.9669\n",
      "====> Epoch: 14 Loss: 6.881 | val_loss: 7.189 | val_dice: 0.150 | val_iou: 0.779 | Elapsed time: 53.7363\n",
      "====> Epoch: 15 Loss: 6.703 | val_loss: 6.739 | val_dice: 0.192 | val_iou: 0.779 | Elapsed time: 53.5528\n",
      "====> Epoch: 16 Loss: 6.629 | val_loss: 6.787 | val_dice: 0.186 | val_iou: 0.779 | Elapsed time: 58.7922\n",
      "====> Epoch: 17 Loss: 6.734 | val_loss: 6.862 | val_dice: 0.177 | val_iou: 0.779 | Elapsed time: 58.0801\n"
     ]
    },
    {
     "name": "stdout",
     "output_type": "stream",
     "text": [
      "====> Epoch: 18 Loss: 6.668 | val_loss: 7.126 | val_dice: 0.151 | val_iou: 0.779 | Elapsed time: 57.4665\n",
      "====> Epoch: 19 Loss: 6.684 | val_loss: 6.607 | val_dice: 0.204 | val_iou: 0.779 | Elapsed time: 56.3337\n",
      "====> Epoch: 20 Loss: 6.680 | val_loss: 6.585 | val_dice: 0.204 | val_iou: 0.779 | Elapsed time: 54.7074\n",
      "====> Epoch: 21 Loss: 6.702 | val_loss: 6.615 | val_dice: 0.200 | val_iou: 0.779 | Elapsed time: 54.8567\n",
      "====> Epoch: 22 Loss: 6.670 | val_loss: 6.684 | val_dice: 0.197 | val_iou: 0.779 | Elapsed time: 54.1408\n",
      "====> Epoch: 23 Loss: 6.627 | val_loss: 6.582 | val_dice: 0.210 | val_iou: 0.779 | Elapsed time: 53.7393\n",
      "====> Epoch: 24 Loss: 6.519 | val_loss: 6.535 | val_dice: 0.210 | val_iou: 0.779 | Elapsed time: 53.6697\n",
      "====> Epoch: 25 Loss: 6.532 | val_loss: 6.526 | val_dice: 0.211 | val_iou: 0.779 | Elapsed time: 53.7416\n",
      "====> Epoch: 26 Loss: 6.501 | val_loss: 6.487 | val_dice: 0.217 | val_iou: 0.779 | Elapsed time: 56.1231\n",
      "====> Epoch: 27 Loss: 6.637 | val_loss: 6.576 | val_dice: 0.207 | val_iou: 0.779 | Elapsed time: 46.8234\n",
      "====> Epoch: 28 Loss: 6.627 | val_loss: 6.658 | val_dice: 0.199 | val_iou: 0.779 | Elapsed time: 40.7780\n",
      "====> Epoch: 29 Loss: 6.487 | val_loss: 6.651 | val_dice: 0.203 | val_iou: 0.779 | Elapsed time: 40.2045\n",
      "====> Epoch: 30 Loss: 6.536 | val_loss: 6.532 | val_dice: 0.212 | val_iou: 0.779 | Elapsed time: 40.4351\n",
      "\n"
     ]
    }
   ],
   "source": [
    "history = KFoldTrainer(train_dataset, params)"
   ]
  },
  {
   "cell_type": "markdown",
   "metadata": {},
   "source": [
    "# Performance Report"
   ]
  },
  {
   "cell_type": "code",
   "execution_count": 19,
   "metadata": {},
   "outputs": [
    {
     "name": "stdout",
     "output_type": "stream",
     "text": [
      "Loss = mean: 6.483 | std: 0.051\n"
     ]
    }
   ],
   "source": [
    "print(\"Loss = mean: {:.3f} | std: {:.3f}\".format(\n",
    "    np.mean([d['val_loss'][-1] for d in history]),\n",
    "    np.std([d['val_loss'][-1] for d in history])\n",
    "))"
   ]
  },
  {
   "cell_type": "code",
   "execution_count": 20,
   "metadata": {},
   "outputs": [
    {
     "name": "stdout",
     "output_type": "stream",
     "text": [
      "Dice = mean: 0.218 | std: 0.006\n"
     ]
    }
   ],
   "source": [
    "print(\"Dice = mean: {:.3f} | std: {:.3f}\".format(\n",
    "    np.mean([d['val_dice'][-1] for d in history]),\n",
    "    np.std([d['val_dice'][-1] for d in history])\n",
    "))"
   ]
  },
  {
   "cell_type": "code",
   "execution_count": 21,
   "metadata": {},
   "outputs": [
    {
     "name": "stdout",
     "output_type": "stream",
     "text": [
      "IoU = mean: 0.778 | std: 0.000\n"
     ]
    }
   ],
   "source": [
    "print(\"IoU = mean: {:.3f} | std: {:.3f}\".format(\n",
    "    np.mean([d['val_iou'][-1] for d in history]), \n",
    "    np.std([d['val_iou'][-1] for d in history])\n",
    "))"
   ]
  },
  {
   "cell_type": "markdown",
   "metadata": {},
   "source": [
    "# Visualization"
   ]
  },
  {
   "cell_type": "code",
   "execution_count": 22,
   "metadata": {},
   "outputs": [],
   "source": [
    "ids_val_fold0 = [\n",
    "    'c7b2d2e9-4f5c-4580-8424-8d3d726e453c', '47ff3888-bf35-42cc-a29e-9d6488359f94', \n",
    "    '4e806d37-522c-47cb-95ff-21488a426104', 'fead8485-9e28-4617-8d10-a9a190da5014', \n",
    "    'e225e446-ca02-4b3b-a495-cf61c2687322', '48574d65-277c-49b4-92b2-6f990e79caf0', \n",
    "    'c01395ea-88ea-467e-88bb-94c47569394d', '277da72c-8efa-40c8-92fb-0b2884b44355', \n",
    "    'bb54f8a7-5c2e-43bc-8873-0d657e415946', '0ee8e9d7-50ab-46d7-8db8-152c13f41095', \n",
    "    '402dfd35-ed62-4c02-bf5b-d8cc46a0e8ee', '0ef44f50-5791-43a7-9896-68fbd3d18e9c', \n",
    "    '7b922525-daf7-4674-bfa5-2513e55d2a29', '6d6dccd6-f8c0-45b7-bc16-b9795d042655', \n",
    "    '5e46587f-4f67-4e2a-8808-6c9fdaa6dea5', 'fa1439dd-7166-40a5-8281-54b5df9174ea', \n",
    "    '53729b1b-5b2a-41a1-9ef7-e7a4a4aa7223', 'e358ff00-d6bb-4ca2-a48a-22bb277e099a', \n",
    "    '7c66788f-5e7e-443f-935c-7b7ce00a6c66', '6f801b77-06ce-468a-8e48-1ffeec5ff815', \n",
    "    '5c92550b-2c25-4447-ae41-b155e10c1496', '6376624f-5e0a-47a7-b4da-33dca76dec6c', \n",
    "    'f0f2f5c5-92e3-4267-9103-037f0d2bd181', 'd7b92892-9405-4daf-a706-a48a8487e5ce', \n",
    "    '050e62b3-fb33-4f6a-8c6b-d530c5d554d8', '4001bdbc-9ca5-4607-a7a6-d8fa3f195302', \n",
    "    '3bac13d7-222e-4a52-8726-2eb70f8462df', '9234eeba-d448-4268-be36-ee66fba78df8', \n",
    "    '6780ceaf-71d6-44e0-9b09-d8f821e99e08', '8196ac82-82e8-43c0-abf4-0308f10f13d6', \n",
    "    'c3041102-06e3-48f3-b8f8-1dab16142cbf', 'c09576d7-f0a9-451f-ba0c-23c90fe35e10', \n",
    "    '3a5c46be-fab6-4585-88ed-c682e376ee37', 'f210ecc8-480e-4879-9e2e-dbf1f3d309c4', \n",
    "    '3ce84286-0a8f-4375-9b23-a1f0a62c4a8e', 'ffd3357a-c2eb-4826-a0c5-abccf0df3fe9', \n",
    "    '762bd83d-bc5e-4771-b040-55a93b3435ea', 'eff090dc-6546-4316-ba2a-6c9a5a90764f', \n",
    "    '5c3fe83b-c226-4447-90ee-163f693e24a8', '4c012ba8-5a80-47e9-b9c1-cf8cfbf50965', \n",
    "    '07aa3487-c94f-41e3-8947-effb38e6d64d', '84c2c644-c1fe-47f0-9a8d-900ef87167b9', \n",
    "    '410399d5-2c27-4831-9b2b-c85322eded0c', 'e999be1b-1652-4a2e-adc3-1916a3825505', \n",
    "    'b2019056-3fea-4b8c-8be4-eb91e27e8031', '3296c233-d14d-4467-b6d8-70090aaf19b7', \n",
    "    '2869fa02-1760-4321-b9e2-68e2421bccb6', '2f366d03-c271-44a2-8a74-2ddfed8b055b', \n",
    "    '8fb58c04-1e74-4ca8-99b0-2796f75168d4', '67c9e90f-634f-402f-a2bb-7bfa0fdf2f41', \n",
    "    '882d3757-813e-4a33-9e40-09daeb2690da', 'c1499ea8-9b0e-410b-a1a5-a8e8caf25a7d', \n",
    "    'dfb06563-1c03-48b7-9b97-ba2c90543f5a', '83e9c9a5-e3e2-466c-b52c-147a8e1ba389', \n",
    "    'c3bdf5da-a67e-4db1-b7e8-1df793c7e6b5', 'b92fdd8f-c62a-4302-917b-7cecbcc39ad6', \n",
    "    '24254c26-b2cc-4819-b751-0831f643c8d8', '74f2f120-5457-484c-b4cf-d3752d3a898f', \n",
    "    '17cd523f-8587-4ef7-a43e-6de53dfc2424', 'dcb6f096-5c18-4053-833a-ee3d7460d9ab', \n",
    "    'dd4a4731-3ede-4f5c-a2dc-296bccd82ce9', '9e37e115-7deb-4156-82ee-31f7cde63d45', \n",
    "    'a0b139e4-ff20-485b-b31b-bb3c8bec1c5b', 'f496f0f2-3376-44d5-82e9-bfbe4276d8e2'\n",
    "]"
   ]
  },
  {
   "cell_type": "code",
   "execution_count": 23,
   "metadata": {},
   "outputs": [],
   "source": [
    "temp = train_dataset[train_dataset.user_id.isin(ids_val_fold0)]"
   ]
  },
  {
   "cell_type": "code",
   "execution_count": 24,
   "metadata": {},
   "outputs": [],
   "source": [
    "model = smp.Unet('resnet34', encoder_weights='imagenet', in_channels=1)\n",
    "model.load_state_dict(torch.load('../models/stage_1/stage_1_config_fold_0.pt')['model_state_dict'])\n",
    "model = model.to('cuda')"
   ]
  },
  {
   "cell_type": "code",
   "execution_count": 25,
   "metadata": {},
   "outputs": [],
   "source": [
    "train_loader = get_pneumo_loaders(df=temp, is_train=False, **params['loader_params'])"
   ]
  },
  {
   "cell_type": "code",
   "execution_count": 26,
   "metadata": {},
   "outputs": [],
   "source": [
    "with torch.no_grad():\n",
    "    for img, mask in train_loader:\n",
    "        img = img.to('cuda')\n",
    "        predicted_mask = model(img)\n",
    "        break"
   ]
  },
  {
   "cell_type": "code",
   "execution_count": 35,
   "metadata": {},
   "outputs": [
    {
     "data": {
      "image/png": "[encoded data removed]",
      "text/plain": [
       "<Figure size 1440x1080 with 3 Axes>"
      ]
     },
     "metadata": {
      "needs_background": "light"
     },
     "output_type": "display_data"
    }
   ],
   "source": [
    "# 0, 2, 4, 3, 6, 7\n",
    "idx = 7\n",
    "\n",
    "p_mask = (nn.Sigmoid()(predicted_mask[idx][0, :, :]).cpu() > .5).int()\n",
    "fig, axes = plt.subplots(nrows=1, ncols=3, figsize=(20, 15))\n",
    "axes[0].imshow(img[idx, 0, :, :].cpu(), cmap='gray')\n",
    "axes[1].imshow(mask[idx, 0, :, :], cmap='gray')\n",
    "axes[2].imshow(p_mask, cmap='gray')\n",
    "plt.tight_layout()"
   ]
  },
  {
   "cell_type": "code",
   "execution_count": null,
   "metadata": {},
   "outputs": [],
   "source": []
  }
 ],
 "metadata": {
  "kernelspec": {
   "display_name": "pneumo_seg",
   "language": "python",
   "name": "pneumo_seg"
  },
  "language_info": {
   "codemirror_mode": {
    "name": "ipython",
    "version": 3
   },
   "file_extension": ".py",
   "mimetype": "text/x-python",
   "name": "python",
   "nbconvert_exporter": "python",
   "pygments_lexer": "ipython3",
   "version": "3.7.4"
  }
 },
 "nbformat": 4,
 "nbformat_minor": 2
}
