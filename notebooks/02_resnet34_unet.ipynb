{
 "cells": [
  {
   "cell_type": "code",
   "execution_count": 1,
   "metadata": {},
   "outputs": [],
   "source": [
    "import os\n",
    "import gc\n",
    "import time\n",
    "import numpy as np\n",
    "import pandas as pd\n",
    "from glob import glob\n",
    "import IPython.display as ipd\n",
    "import matplotlib.pyplot as plt\n",
    "from sklearn.model_selection import StratifiedKFold\n",
    "\n",
    "os.chdir(os.path.dirname(\"../src/\"))"
   ]
  },
  {
   "cell_type": "code",
   "execution_count": 2,
   "metadata": {},
   "outputs": [],
   "source": [
    "import warnings\n",
    "warnings.filterwarnings(\"ignore\")"
   ]
  },
  {
   "cell_type": "code",
   "execution_count": 3,
   "metadata": {},
   "outputs": [],
   "source": [
    "import torch\n",
    "import torch.optim as optim\n",
    "import torch.nn as nn\n",
    "\n",
    "# Set seeds for reproducibility\n",
    "SEED = 42\n",
    "np.random.seed(SEED)\n",
    "torch.manual_seed(SEED)\n",
    "torch.backends.cudnn.deterministic = True\n",
    "torch.backends.cudnn.benchmark = False"
   ]
  },
  {
   "cell_type": "code",
   "execution_count": 4,
   "metadata": {},
   "outputs": [],
   "source": [
    "from albumentations.pytorch import ToTensor"
   ]
  },
  {
   "cell_type": "code",
   "execution_count": 5,
   "metadata": {},
   "outputs": [],
   "source": [
    "from siim_pneumothorax.utils import parse_dicom\n",
    "from siim_pneumothorax.utils import ConfigObject\n",
    "from siim_pneumothorax.dataset import get_pneumo_loaders\n",
    "from siim_pneumothorax.losses import Dice_metric\n",
    "from siim_pneumothorax.losses import IoU_metric\n",
    "from siim_pneumothorax.losses import MixedLoss\n",
    "from siim_pneumothorax.losses import MixedFocalLoss\n",
    "from siim_pneumothorax.losses import DiceLoss\n",
    "from siim_pneumothorax.losses import FocalLoss\n",
    "from siim_pneumothorax.models import VanillaUNet"
   ]
  },
  {
   "cell_type": "code",
   "execution_count": 6,
   "metadata": {},
   "outputs": [],
   "source": [
    "import segmentation_models_pytorch as smp"
   ]
  },
  {
   "cell_type": "markdown",
   "metadata": {},
   "source": [
    "# Configuration"
   ]
  },
  {
   "cell_type": "code",
   "execution_count": 7,
   "metadata": {},
   "outputs": [],
   "source": [
    "params = {\n",
    "    # Loader parameters\n",
    "    'loader_params': {\n",
    "        'img_size': 512,\n",
    "        'batch_size': 8,\n",
    "        'shuffle': True,\n",
    "        'num_workers': 8,\n",
    "        'rgb_channel': False,\n",
    "        'grid_size': 16\n",
    "    },\n",
    "    \n",
    "    # Loss/metric parameters\n",
    "    'alpha': 10,\n",
    "    'gamma': 2,\n",
    "    'smooth': 1,\n",
    "    \n",
    "    # training parameters\n",
    "    'n_folds': 3,\n",
    "    'num_epochs': 80,\n",
    "    'checkpoint_path': '../models/model_checkpoint',\n",
    "    'model_save_path': '../models/unetresnet34_512'\n",
    "}"
   ]
  },
  {
   "cell_type": "markdown",
   "metadata": {},
   "source": [
    "# Data preparation"
   ]
  },
  {
   "cell_type": "code",
   "execution_count": 8,
   "metadata": {},
   "outputs": [],
   "source": [
    "train_fns = sorted(glob('../data/siim/dicom-images-train/*/*/*.dcm'))\n",
    "test_fns = sorted(glob('../data/siim/dicom-images-test/*/*/*.dcm'))"
   ]
  },
  {
   "cell_type": "code",
   "execution_count": 9,
   "metadata": {},
   "outputs": [],
   "source": [
    "train_rle_codes = pd.read_csv('../data/siim/train-rle.csv')\n",
    "train_rle_codes.columns = [\"ImageId\", \"EncodedPixels\"]\n",
    "train_rle_codes['has_pneumothorax'] = (train_rle_codes.EncodedPixels != \"-1\").astype(int)"
   ]
  },
  {
   "cell_type": "code",
   "execution_count": 10,
   "metadata": {},
   "outputs": [],
   "source": [
    "train_dataset = pd.DataFrame([parse_dicom(x, train_rle_codes) for x in  train_fns])"
   ]
  },
  {
   "cell_type": "code",
   "execution_count": 11,
   "metadata": {},
   "outputs": [],
   "source": [
    "test_dataset = pd.DataFrame([parse_dicom(x, is_training=False) for x in  test_fns])"
   ]
  },
  {
   "cell_type": "code",
   "execution_count": 12,
   "metadata": {},
   "outputs": [],
   "source": [
    "train_dataset.dropna(inplace=True)"
   ]
  },
  {
   "cell_type": "code",
   "execution_count": 13,
   "metadata": {},
   "outputs": [],
   "source": [
    "# train_dataset = train_dataset.sample(80)"
   ]
  },
  {
   "cell_type": "markdown",
   "metadata": {},
   "source": [
    "# Model, Loss function, Optimizer and LR Scheduler"
   ]
  },
  {
   "cell_type": "code",
   "execution_count": 14,
   "metadata": {},
   "outputs": [],
   "source": [
    "def get_parameters(params):\n",
    "    device = 'cuda'\n",
    "    model = smp.Unet('resnet34', encoder_weights='imagenet', in_channels=1)\n",
    "    model = model.to(device)\n",
    "    \n",
    "    # Build optimizer\n",
    "    optimizer = optim.Adam(model.parameters(), lr=5e-4)\n",
    "    \n",
    "    # LR scheduler\n",
    "    lr_scheduler = optim.lr_scheduler.CosineAnnealingWarmRestarts(\n",
    "        optimizer, T_0=params[\"num_epochs\"], eta_min=1e-4\n",
    "    )\n",
    "\n",
    "    m_loss = MixedLoss(params['smooth'])\n",
    "    \n",
    "    return device, model, optimizer, lr_scheduler, m_loss"
   ]
  },
  {
   "cell_type": "markdown",
   "metadata": {},
   "source": [
    "# Setup Execution"
   ]
  },
  {
   "cell_type": "code",
   "execution_count": 15,
   "metadata": {},
   "outputs": [],
   "source": [
    "def train(config, model, train_loader, valid_loader, \n",
    "          loss_fn, lr_scheduler, optimizer, device, debug=True):\n",
    "\n",
    "    history = {\n",
    "        'loss': [], 'val_loss': [], 'dice': [], \n",
    "        'val_dice': [], 'iou': [], 'val_iou': []\n",
    "    }\n",
    "    \n",
    "    dice_metric = Dice_metric()\n",
    "    iou_metric = IoU_metric()\n",
    "    \n",
    "    for epoch in range(config.num_epochs):\n",
    "        loss, dice, iou = 0.0, [], []\n",
    "\n",
    "        start_time = time.time()\n",
    "        model.train()\n",
    "        \n",
    "        for idx, (img, mask) in enumerate(train_loader):\n",
    "            img = img.type(torch.FloatTensor).to(device)\n",
    "            mask = mask.type(torch.FloatTensor).to(device)\n",
    "            optimizer.zero_grad()\n",
    "            recon_batch = model(img)\n",
    "            loss_batch = loss_fn(recon_batch, mask)\n",
    "            dice_batch = dice_metric(recon_batch, mask)\n",
    "            iou_batch = iou_metric(recon_batch, mask)\n",
    "            \n",
    "            loss_batch.backward()\n",
    "            optimizer.step()\n",
    "\n",
    "            # Compute metrics to all batch\n",
    "            loss += loss_batch.item()*len(img)\n",
    "            dice.append(dice_batch.item())\n",
    "            iou.append(iou_batch.item())\n",
    "\n",
    "            if debug:\n",
    "                print(\"step: {:4d} of {:4d} | loss: {:.4f} | dice: {:.4f} | iou: {:.4f} \".format(idx + 1, len(train_loader),\n",
    "                    loss_batch.item()*len(img), dice_batch.item(), iou_batch.item()), end='\\r')\n",
    "\n",
    "        loss /= len(train_loader)\n",
    "        dice = np.nanmean(dice)\n",
    "        iou = np.nanmean(iou)\n",
    "\n",
    "        val_loss, val_dice, val_iou, comparison = evaluate(config, model, valid_loader, loss_fn, device)\n",
    "        lr_scheduler.step()\n",
    "        elapsed_time = time.time() - start_time\n",
    "        \n",
    "        # Display training Metrics\n",
    "        print('====> Epoch: {:02d} Loss: {:.3f} | val_loss: {:.3f} | val_dice: {:.3f} | val_iou: {:.3f} | Elapsed time: {:.4f}'.format(\n",
    "          epoch+1, loss, val_loss, val_dice, val_iou, elapsed_time))\n",
    "        \n",
    "        # Compute the statistics of the last epoch and save to history\n",
    "        history['loss'].append(loss)\n",
    "        history['val_loss'].append(val_loss)\n",
    "        history['dice'].append(dice)\n",
    "        history['val_dice'].append(val_dice)\n",
    "        history['iou'].append(iou)\n",
    "        history['val_iou'].append(val_iou)\n",
    "\n",
    "        # Checkpoint the model\n",
    "        torch.save(model.state_dict(), config.checkpoint_path)\n",
    "        \n",
    "    return history"
   ]
  },
  {
   "cell_type": "code",
   "execution_count": 16,
   "metadata": {},
   "outputs": [],
   "source": [
    "def evaluate(config, model, heldout_loader, loss_fn, device):\n",
    "    model.eval()\n",
    "    heldout_loss = 0\n",
    "    heldout_dice = []\n",
    "    heldout_iou = []\n",
    "    \n",
    "    dice_metric = Dice_metric()\n",
    "    iou_metric = IoU_metric()\n",
    "\n",
    "    with torch.no_grad():\n",
    "        for i, (img, mask) in enumerate(heldout_loader):\n",
    "            img = img.type(torch.FloatTensor).to(device)\n",
    "            mask = mask.type(torch.FloatTensor).to(device)\n",
    "            recon_batch = model(img)\n",
    "            heldout_loss += loss_fn(recon_batch, mask).item()*len(img)\n",
    "            heldout_dice.append(dice_metric(recon_batch, mask).item())\n",
    "            heldout_iou.append(iou_metric(recon_batch, mask).item())\n",
    "\n",
    "    heldout_loss /= len(heldout_loader)\n",
    "    heldout_dice = np.nanmean(heldout_dice)\n",
    "    heldout_iou = np.nanmean(heldout_iou)\n",
    "    \n",
    "    n = min(img.size(0), 16)\n",
    "    comparison = [img[:n], recon_batch[:n], mask[:n]]\n",
    "    \n",
    "    return heldout_loss, heldout_dice, heldout_iou, comparison"
   ]
  },
  {
   "cell_type": "code",
   "execution_count": 17,
   "metadata": {},
   "outputs": [],
   "source": [
    "def KFoldTrainer(dataset, params):\n",
    "    metrics = []\n",
    "    skf = StratifiedKFold(n_splits=params['n_folds'])\n",
    "\n",
    "    # Start kFold\n",
    "    for fold, (train_index, val_index) in enumerate(skf.split(dataset, dataset['has_pneumothorax'])):\n",
    "        print(\"======= Fold {}/{} =======\".format(fold+1, params['n_folds']))\n",
    "        train_dataset, val_dataset = dataset.iloc[train_index], dataset.iloc[val_index]\n",
    "        \n",
    "        # Balance the dataset\n",
    "        g = train_dataset.groupby('has_pneumothorax')\n",
    "        train_dataset = g.apply(lambda x: x.sample(g.size().min()).reset_index(drop=True))\n",
    "        \n",
    "        # Configure parameters\n",
    "        config = {\n",
    "            'smooth': params[\"smooth\"],\n",
    "            'num_epochs': params['num_epochs'],\n",
    "            'checkpoint_path': '{}.pt'.format(params['checkpoint_path']),\n",
    "            'model_save_path': '{}_fold_{}.pt'.format(params['model_save_path'], fold)\n",
    "        }\n",
    "\n",
    "        # Create data loaders\n",
    "        train_loader = get_pneumo_loaders(df=train_dataset, is_train=True, **params['loader_params'])\n",
    "        val_loader = get_pneumo_loaders(df=val_dataset, is_train=False, **params['loader_params'])\n",
    "\n",
    "        # Start training\n",
    "        config = ConfigObject(**config)\n",
    "        device, model, optimizer, lr_scheduler, m_loss = get_parameters(params)\n",
    "        history = train(\n",
    "            config, model, train_loader, val_loader, \n",
    "            m_loss, lr_scheduler, optimizer, device, debug=True\n",
    "        )\n",
    "\n",
    "        metrics.append(history)\n",
    "        torch.save(model.state_dict(), config.model_save_path)\n",
    "        print(\"\") # Break line\n",
    "        break\n",
    "\n",
    "    return metrics"
   ]
  },
  {
   "cell_type": "markdown",
   "metadata": {},
   "source": [
    "# Train"
   ]
  },
  {
   "cell_type": "code",
   "execution_count": 18,
   "metadata": {},
   "outputs": [
    {
     "name": "stdout",
     "output_type": "stream",
     "text": [
      "======= Fold 1/3 =======\n"
     ]
    },
    {
     "ename": "RuntimeError",
     "evalue": "CUDA out of memory. Tried to allocate 256.00 MiB (GPU 0; 7.79 GiB total capacity; 5.60 GiB already allocated; 226.56 MiB free; 5.63 GiB reserved in total by PyTorch)",
     "output_type": "error",
     "traceback": [
      "\u001b[0;31m---------------------------------------------------------------------------\u001b[0m",
      "\u001b[0;31mRuntimeError\u001b[0m                              Traceback (most recent call last)",
      "\u001b[0;32m<ipython-input-18-eb3cd9de420c>\u001b[0m in \u001b[0;36m<module>\u001b[0;34m\u001b[0m\n\u001b[0;32m----> 1\u001b[0;31m \u001b[0mhistory\u001b[0m \u001b[0;34m=\u001b[0m \u001b[0mKFoldTrainer\u001b[0m\u001b[0;34m(\u001b[0m\u001b[0mtrain_dataset\u001b[0m\u001b[0;34m,\u001b[0m \u001b[0mparams\u001b[0m\u001b[0;34m)\u001b[0m\u001b[0;34m\u001b[0m\u001b[0;34m\u001b[0m\u001b[0m\n\u001b[0m",
      "\u001b[0;32m<ipython-input-17-6451132d4452>\u001b[0m in \u001b[0;36mKFoldTrainer\u001b[0;34m(dataset, params)\u001b[0m\n\u001b[1;32m     29\u001b[0m         history = train(\n\u001b[1;32m     30\u001b[0m             \u001b[0mconfig\u001b[0m\u001b[0;34m,\u001b[0m \u001b[0mmodel\u001b[0m\u001b[0;34m,\u001b[0m \u001b[0mtrain_loader\u001b[0m\u001b[0;34m,\u001b[0m \u001b[0mval_loader\u001b[0m\u001b[0;34m,\u001b[0m\u001b[0;34m\u001b[0m\u001b[0;34m\u001b[0m\u001b[0m\n\u001b[0;32m---> 31\u001b[0;31m             \u001b[0mm_loss\u001b[0m\u001b[0;34m,\u001b[0m \u001b[0mlr_scheduler\u001b[0m\u001b[0;34m,\u001b[0m \u001b[0moptimizer\u001b[0m\u001b[0;34m,\u001b[0m \u001b[0mdevice\u001b[0m\u001b[0;34m,\u001b[0m \u001b[0mdebug\u001b[0m\u001b[0;34m=\u001b[0m\u001b[0;32mTrue\u001b[0m\u001b[0;34m\u001b[0m\u001b[0;34m\u001b[0m\u001b[0m\n\u001b[0m\u001b[1;32m     32\u001b[0m         )\n\u001b[1;32m     33\u001b[0m \u001b[0;34m\u001b[0m\u001b[0m\n",
      "\u001b[0;32m<ipython-input-15-89ae5a6ab093>\u001b[0m in \u001b[0;36mtrain\u001b[0;34m(config, model, train_loader, valid_loader, loss_fn, lr_scheduler, optimizer, device, debug)\u001b[0m\n\u001b[1;32m     20\u001b[0m             \u001b[0mmask\u001b[0m \u001b[0;34m=\u001b[0m \u001b[0mmask\u001b[0m\u001b[0;34m.\u001b[0m\u001b[0mtype\u001b[0m\u001b[0;34m(\u001b[0m\u001b[0mtorch\u001b[0m\u001b[0;34m.\u001b[0m\u001b[0mFloatTensor\u001b[0m\u001b[0;34m)\u001b[0m\u001b[0;34m.\u001b[0m\u001b[0mto\u001b[0m\u001b[0;34m(\u001b[0m\u001b[0mdevice\u001b[0m\u001b[0;34m)\u001b[0m\u001b[0;34m\u001b[0m\u001b[0;34m\u001b[0m\u001b[0m\n\u001b[1;32m     21\u001b[0m             \u001b[0moptimizer\u001b[0m\u001b[0;34m.\u001b[0m\u001b[0mzero_grad\u001b[0m\u001b[0;34m(\u001b[0m\u001b[0;34m)\u001b[0m\u001b[0;34m\u001b[0m\u001b[0;34m\u001b[0m\u001b[0m\n\u001b[0;32m---> 22\u001b[0;31m             \u001b[0mrecon_batch\u001b[0m \u001b[0;34m=\u001b[0m \u001b[0mmodel\u001b[0m\u001b[0;34m(\u001b[0m\u001b[0mimg\u001b[0m\u001b[0;34m)\u001b[0m\u001b[0;34m\u001b[0m\u001b[0;34m\u001b[0m\u001b[0m\n\u001b[0m\u001b[1;32m     23\u001b[0m             \u001b[0mloss_batch\u001b[0m \u001b[0;34m=\u001b[0m \u001b[0mloss_fn\u001b[0m\u001b[0;34m(\u001b[0m\u001b[0mrecon_batch\u001b[0m\u001b[0;34m,\u001b[0m \u001b[0mmask\u001b[0m\u001b[0;34m)\u001b[0m\u001b[0;34m\u001b[0m\u001b[0;34m\u001b[0m\u001b[0m\n\u001b[1;32m     24\u001b[0m             \u001b[0mdice_batch\u001b[0m \u001b[0;34m=\u001b[0m \u001b[0mdice_metric\u001b[0m\u001b[0;34m(\u001b[0m\u001b[0mrecon_batch\u001b[0m\u001b[0;34m,\u001b[0m \u001b[0mmask\u001b[0m\u001b[0;34m)\u001b[0m\u001b[0;34m\u001b[0m\u001b[0;34m\u001b[0m\u001b[0m\n",
      "\u001b[0;32m~/projects/.venvs/pneumo_seg/lib/python3.7/site-packages/torch/nn/modules/module.py\u001b[0m in \u001b[0;36m_call_impl\u001b[0;34m(self, *input, **kwargs)\u001b[0m\n\u001b[1;32m    720\u001b[0m             \u001b[0mresult\u001b[0m \u001b[0;34m=\u001b[0m \u001b[0mself\u001b[0m\u001b[0;34m.\u001b[0m\u001b[0m_slow_forward\u001b[0m\u001b[0;34m(\u001b[0m\u001b[0;34m*\u001b[0m\u001b[0minput\u001b[0m\u001b[0;34m,\u001b[0m \u001b[0;34m**\u001b[0m\u001b[0mkwargs\u001b[0m\u001b[0;34m)\u001b[0m\u001b[0;34m\u001b[0m\u001b[0;34m\u001b[0m\u001b[0m\n\u001b[1;32m    721\u001b[0m         \u001b[0;32melse\u001b[0m\u001b[0;34m:\u001b[0m\u001b[0;34m\u001b[0m\u001b[0;34m\u001b[0m\u001b[0m\n\u001b[0;32m--> 722\u001b[0;31m             \u001b[0mresult\u001b[0m \u001b[0;34m=\u001b[0m \u001b[0mself\u001b[0m\u001b[0;34m.\u001b[0m\u001b[0mforward\u001b[0m\u001b[0;34m(\u001b[0m\u001b[0;34m*\u001b[0m\u001b[0minput\u001b[0m\u001b[0;34m,\u001b[0m \u001b[0;34m**\u001b[0m\u001b[0mkwargs\u001b[0m\u001b[0;34m)\u001b[0m\u001b[0;34m\u001b[0m\u001b[0;34m\u001b[0m\u001b[0m\n\u001b[0m\u001b[1;32m    723\u001b[0m         for hook in itertools.chain(\n\u001b[1;32m    724\u001b[0m                 \u001b[0m_global_forward_hooks\u001b[0m\u001b[0;34m.\u001b[0m\u001b[0mvalues\u001b[0m\u001b[0;34m(\u001b[0m\u001b[0;34m)\u001b[0m\u001b[0;34m,\u001b[0m\u001b[0;34m\u001b[0m\u001b[0;34m\u001b[0m\u001b[0m\n",
      "\u001b[0;32m~/projects/.venvs/pneumo_seg/lib/python3.7/site-packages/segmentation_models_pytorch/base/model.py\u001b[0m in \u001b[0;36mforward\u001b[0;34m(self, x)\u001b[0m\n\u001b[1;32m     14\u001b[0m         \u001b[0;34m\"\"\"Sequentially pass `x` trough model`s encoder, decoder and heads\"\"\"\u001b[0m\u001b[0;34m\u001b[0m\u001b[0;34m\u001b[0m\u001b[0m\n\u001b[1;32m     15\u001b[0m         \u001b[0mfeatures\u001b[0m \u001b[0;34m=\u001b[0m \u001b[0mself\u001b[0m\u001b[0;34m.\u001b[0m\u001b[0mencoder\u001b[0m\u001b[0;34m(\u001b[0m\u001b[0mx\u001b[0m\u001b[0;34m)\u001b[0m\u001b[0;34m\u001b[0m\u001b[0;34m\u001b[0m\u001b[0m\n\u001b[0;32m---> 16\u001b[0;31m         \u001b[0mdecoder_output\u001b[0m \u001b[0;34m=\u001b[0m \u001b[0mself\u001b[0m\u001b[0;34m.\u001b[0m\u001b[0mdecoder\u001b[0m\u001b[0;34m(\u001b[0m\u001b[0;34m*\u001b[0m\u001b[0mfeatures\u001b[0m\u001b[0;34m)\u001b[0m\u001b[0;34m\u001b[0m\u001b[0;34m\u001b[0m\u001b[0m\n\u001b[0m\u001b[1;32m     17\u001b[0m \u001b[0;34m\u001b[0m\u001b[0m\n\u001b[1;32m     18\u001b[0m         \u001b[0mmasks\u001b[0m \u001b[0;34m=\u001b[0m \u001b[0mself\u001b[0m\u001b[0;34m.\u001b[0m\u001b[0msegmentation_head\u001b[0m\u001b[0;34m(\u001b[0m\u001b[0mdecoder_output\u001b[0m\u001b[0;34m)\u001b[0m\u001b[0;34m\u001b[0m\u001b[0;34m\u001b[0m\u001b[0m\n",
      "\u001b[0;32m~/projects/.venvs/pneumo_seg/lib/python3.7/site-packages/torch/nn/modules/module.py\u001b[0m in \u001b[0;36m_call_impl\u001b[0;34m(self, *input, **kwargs)\u001b[0m\n\u001b[1;32m    720\u001b[0m             \u001b[0mresult\u001b[0m \u001b[0;34m=\u001b[0m \u001b[0mself\u001b[0m\u001b[0;34m.\u001b[0m\u001b[0m_slow_forward\u001b[0m\u001b[0;34m(\u001b[0m\u001b[0;34m*\u001b[0m\u001b[0minput\u001b[0m\u001b[0;34m,\u001b[0m \u001b[0;34m**\u001b[0m\u001b[0mkwargs\u001b[0m\u001b[0;34m)\u001b[0m\u001b[0;34m\u001b[0m\u001b[0;34m\u001b[0m\u001b[0m\n\u001b[1;32m    721\u001b[0m         \u001b[0;32melse\u001b[0m\u001b[0;34m:\u001b[0m\u001b[0;34m\u001b[0m\u001b[0;34m\u001b[0m\u001b[0m\n\u001b[0;32m--> 722\u001b[0;31m             \u001b[0mresult\u001b[0m \u001b[0;34m=\u001b[0m \u001b[0mself\u001b[0m\u001b[0;34m.\u001b[0m\u001b[0mforward\u001b[0m\u001b[0;34m(\u001b[0m\u001b[0;34m*\u001b[0m\u001b[0minput\u001b[0m\u001b[0;34m,\u001b[0m \u001b[0;34m**\u001b[0m\u001b[0mkwargs\u001b[0m\u001b[0;34m)\u001b[0m\u001b[0;34m\u001b[0m\u001b[0;34m\u001b[0m\u001b[0m\n\u001b[0m\u001b[1;32m    723\u001b[0m         for hook in itertools.chain(\n\u001b[1;32m    724\u001b[0m                 \u001b[0m_global_forward_hooks\u001b[0m\u001b[0;34m.\u001b[0m\u001b[0mvalues\u001b[0m\u001b[0;34m(\u001b[0m\u001b[0;34m)\u001b[0m\u001b[0;34m,\u001b[0m\u001b[0;34m\u001b[0m\u001b[0;34m\u001b[0m\u001b[0m\n",
      "\u001b[0;32m~/projects/.venvs/pneumo_seg/lib/python3.7/site-packages/segmentation_models_pytorch/unet/decoder.py\u001b[0m in \u001b[0;36mforward\u001b[0;34m(self, *features)\u001b[0m\n\u001b[1;32m    117\u001b[0m         \u001b[0;32mfor\u001b[0m \u001b[0mi\u001b[0m\u001b[0;34m,\u001b[0m \u001b[0mdecoder_block\u001b[0m \u001b[0;32min\u001b[0m \u001b[0menumerate\u001b[0m\u001b[0;34m(\u001b[0m\u001b[0mself\u001b[0m\u001b[0;34m.\u001b[0m\u001b[0mblocks\u001b[0m\u001b[0;34m)\u001b[0m\u001b[0;34m:\u001b[0m\u001b[0;34m\u001b[0m\u001b[0;34m\u001b[0m\u001b[0m\n\u001b[1;32m    118\u001b[0m             \u001b[0mskip\u001b[0m \u001b[0;34m=\u001b[0m \u001b[0mskips\u001b[0m\u001b[0;34m[\u001b[0m\u001b[0mi\u001b[0m\u001b[0;34m]\u001b[0m \u001b[0;32mif\u001b[0m \u001b[0mi\u001b[0m \u001b[0;34m<\u001b[0m \u001b[0mlen\u001b[0m\u001b[0;34m(\u001b[0m\u001b[0mskips\u001b[0m\u001b[0;34m)\u001b[0m \u001b[0;32melse\u001b[0m \u001b[0;32mNone\u001b[0m\u001b[0;34m\u001b[0m\u001b[0;34m\u001b[0m\u001b[0m\n\u001b[0;32m--> 119\u001b[0;31m             \u001b[0mx\u001b[0m \u001b[0;34m=\u001b[0m \u001b[0mdecoder_block\u001b[0m\u001b[0;34m(\u001b[0m\u001b[0mx\u001b[0m\u001b[0;34m,\u001b[0m \u001b[0mskip\u001b[0m\u001b[0;34m)\u001b[0m\u001b[0;34m\u001b[0m\u001b[0;34m\u001b[0m\u001b[0m\n\u001b[0m\u001b[1;32m    120\u001b[0m \u001b[0;34m\u001b[0m\u001b[0m\n\u001b[1;32m    121\u001b[0m         \u001b[0;32mreturn\u001b[0m \u001b[0mx\u001b[0m\u001b[0;34m\u001b[0m\u001b[0;34m\u001b[0m\u001b[0m\n",
      "\u001b[0;32m~/projects/.venvs/pneumo_seg/lib/python3.7/site-packages/torch/nn/modules/module.py\u001b[0m in \u001b[0;36m_call_impl\u001b[0;34m(self, *input, **kwargs)\u001b[0m\n\u001b[1;32m    720\u001b[0m             \u001b[0mresult\u001b[0m \u001b[0;34m=\u001b[0m \u001b[0mself\u001b[0m\u001b[0;34m.\u001b[0m\u001b[0m_slow_forward\u001b[0m\u001b[0;34m(\u001b[0m\u001b[0;34m*\u001b[0m\u001b[0minput\u001b[0m\u001b[0;34m,\u001b[0m \u001b[0;34m**\u001b[0m\u001b[0mkwargs\u001b[0m\u001b[0;34m)\u001b[0m\u001b[0;34m\u001b[0m\u001b[0;34m\u001b[0m\u001b[0m\n\u001b[1;32m    721\u001b[0m         \u001b[0;32melse\u001b[0m\u001b[0;34m:\u001b[0m\u001b[0;34m\u001b[0m\u001b[0;34m\u001b[0m\u001b[0m\n\u001b[0;32m--> 722\u001b[0;31m             \u001b[0mresult\u001b[0m \u001b[0;34m=\u001b[0m \u001b[0mself\u001b[0m\u001b[0;34m.\u001b[0m\u001b[0mforward\u001b[0m\u001b[0;34m(\u001b[0m\u001b[0;34m*\u001b[0m\u001b[0minput\u001b[0m\u001b[0;34m,\u001b[0m \u001b[0;34m**\u001b[0m\u001b[0mkwargs\u001b[0m\u001b[0;34m)\u001b[0m\u001b[0;34m\u001b[0m\u001b[0;34m\u001b[0m\u001b[0m\n\u001b[0m\u001b[1;32m    723\u001b[0m         for hook in itertools.chain(\n\u001b[1;32m    724\u001b[0m                 \u001b[0m_global_forward_hooks\u001b[0m\u001b[0;34m.\u001b[0m\u001b[0mvalues\u001b[0m\u001b[0;34m(\u001b[0m\u001b[0;34m)\u001b[0m\u001b[0;34m,\u001b[0m\u001b[0;34m\u001b[0m\u001b[0;34m\u001b[0m\u001b[0m\n",
      "\u001b[0;32m~/projects/.venvs/pneumo_seg/lib/python3.7/site-packages/segmentation_models_pytorch/unet/decoder.py\u001b[0m in \u001b[0;36mforward\u001b[0;34m(self, x, skip)\u001b[0m\n\u001b[1;32m     39\u001b[0m             \u001b[0mx\u001b[0m \u001b[0;34m=\u001b[0m \u001b[0mself\u001b[0m\u001b[0;34m.\u001b[0m\u001b[0mattention1\u001b[0m\u001b[0;34m(\u001b[0m\u001b[0mx\u001b[0m\u001b[0;34m)\u001b[0m\u001b[0;34m\u001b[0m\u001b[0;34m\u001b[0m\u001b[0m\n\u001b[1;32m     40\u001b[0m         \u001b[0mx\u001b[0m \u001b[0;34m=\u001b[0m \u001b[0mself\u001b[0m\u001b[0;34m.\u001b[0m\u001b[0mconv1\u001b[0m\u001b[0;34m(\u001b[0m\u001b[0mx\u001b[0m\u001b[0;34m)\u001b[0m\u001b[0;34m\u001b[0m\u001b[0;34m\u001b[0m\u001b[0m\n\u001b[0;32m---> 41\u001b[0;31m         \u001b[0mx\u001b[0m \u001b[0;34m=\u001b[0m \u001b[0mself\u001b[0m\u001b[0;34m.\u001b[0m\u001b[0mconv2\u001b[0m\u001b[0;34m(\u001b[0m\u001b[0mx\u001b[0m\u001b[0;34m)\u001b[0m\u001b[0;34m\u001b[0m\u001b[0;34m\u001b[0m\u001b[0m\n\u001b[0m\u001b[1;32m     42\u001b[0m         \u001b[0mx\u001b[0m \u001b[0;34m=\u001b[0m \u001b[0mself\u001b[0m\u001b[0;34m.\u001b[0m\u001b[0mattention2\u001b[0m\u001b[0;34m(\u001b[0m\u001b[0mx\u001b[0m\u001b[0;34m)\u001b[0m\u001b[0;34m\u001b[0m\u001b[0;34m\u001b[0m\u001b[0m\n\u001b[1;32m     43\u001b[0m         \u001b[0;32mreturn\u001b[0m \u001b[0mx\u001b[0m\u001b[0;34m\u001b[0m\u001b[0;34m\u001b[0m\u001b[0m\n",
      "\u001b[0;32m~/projects/.venvs/pneumo_seg/lib/python3.7/site-packages/torch/nn/modules/module.py\u001b[0m in \u001b[0;36m_call_impl\u001b[0;34m(self, *input, **kwargs)\u001b[0m\n\u001b[1;32m    720\u001b[0m             \u001b[0mresult\u001b[0m \u001b[0;34m=\u001b[0m \u001b[0mself\u001b[0m\u001b[0;34m.\u001b[0m\u001b[0m_slow_forward\u001b[0m\u001b[0;34m(\u001b[0m\u001b[0;34m*\u001b[0m\u001b[0minput\u001b[0m\u001b[0;34m,\u001b[0m \u001b[0;34m**\u001b[0m\u001b[0mkwargs\u001b[0m\u001b[0;34m)\u001b[0m\u001b[0;34m\u001b[0m\u001b[0;34m\u001b[0m\u001b[0m\n\u001b[1;32m    721\u001b[0m         \u001b[0;32melse\u001b[0m\u001b[0;34m:\u001b[0m\u001b[0;34m\u001b[0m\u001b[0;34m\u001b[0m\u001b[0m\n\u001b[0;32m--> 722\u001b[0;31m             \u001b[0mresult\u001b[0m \u001b[0;34m=\u001b[0m \u001b[0mself\u001b[0m\u001b[0;34m.\u001b[0m\u001b[0mforward\u001b[0m\u001b[0;34m(\u001b[0m\u001b[0;34m*\u001b[0m\u001b[0minput\u001b[0m\u001b[0;34m,\u001b[0m \u001b[0;34m**\u001b[0m\u001b[0mkwargs\u001b[0m\u001b[0;34m)\u001b[0m\u001b[0;34m\u001b[0m\u001b[0;34m\u001b[0m\u001b[0m\n\u001b[0m\u001b[1;32m    723\u001b[0m         for hook in itertools.chain(\n\u001b[1;32m    724\u001b[0m                 \u001b[0m_global_forward_hooks\u001b[0m\u001b[0;34m.\u001b[0m\u001b[0mvalues\u001b[0m\u001b[0;34m(\u001b[0m\u001b[0;34m)\u001b[0m\u001b[0;34m,\u001b[0m\u001b[0;34m\u001b[0m\u001b[0;34m\u001b[0m\u001b[0m\n",
      "\u001b[0;32m~/projects/.venvs/pneumo_seg/lib/python3.7/site-packages/torch/nn/modules/container.py\u001b[0m in \u001b[0;36mforward\u001b[0;34m(self, input)\u001b[0m\n\u001b[1;32m    115\u001b[0m     \u001b[0;32mdef\u001b[0m \u001b[0mforward\u001b[0m\u001b[0;34m(\u001b[0m\u001b[0mself\u001b[0m\u001b[0;34m,\u001b[0m \u001b[0minput\u001b[0m\u001b[0;34m)\u001b[0m\u001b[0;34m:\u001b[0m\u001b[0;34m\u001b[0m\u001b[0;34m\u001b[0m\u001b[0m\n\u001b[1;32m    116\u001b[0m         \u001b[0;32mfor\u001b[0m \u001b[0mmodule\u001b[0m \u001b[0;32min\u001b[0m \u001b[0mself\u001b[0m\u001b[0;34m:\u001b[0m\u001b[0;34m\u001b[0m\u001b[0;34m\u001b[0m\u001b[0m\n\u001b[0;32m--> 117\u001b[0;31m             \u001b[0minput\u001b[0m \u001b[0;34m=\u001b[0m \u001b[0mmodule\u001b[0m\u001b[0;34m(\u001b[0m\u001b[0minput\u001b[0m\u001b[0;34m)\u001b[0m\u001b[0;34m\u001b[0m\u001b[0;34m\u001b[0m\u001b[0m\n\u001b[0m\u001b[1;32m    118\u001b[0m         \u001b[0;32mreturn\u001b[0m \u001b[0minput\u001b[0m\u001b[0;34m\u001b[0m\u001b[0;34m\u001b[0m\u001b[0m\n\u001b[1;32m    119\u001b[0m \u001b[0;34m\u001b[0m\u001b[0m\n",
      "\u001b[0;32m~/projects/.venvs/pneumo_seg/lib/python3.7/site-packages/torch/nn/modules/module.py\u001b[0m in \u001b[0;36m_call_impl\u001b[0;34m(self, *input, **kwargs)\u001b[0m\n\u001b[1;32m    720\u001b[0m             \u001b[0mresult\u001b[0m \u001b[0;34m=\u001b[0m \u001b[0mself\u001b[0m\u001b[0;34m.\u001b[0m\u001b[0m_slow_forward\u001b[0m\u001b[0;34m(\u001b[0m\u001b[0;34m*\u001b[0m\u001b[0minput\u001b[0m\u001b[0;34m,\u001b[0m \u001b[0;34m**\u001b[0m\u001b[0mkwargs\u001b[0m\u001b[0;34m)\u001b[0m\u001b[0;34m\u001b[0m\u001b[0;34m\u001b[0m\u001b[0m\n\u001b[1;32m    721\u001b[0m         \u001b[0;32melse\u001b[0m\u001b[0;34m:\u001b[0m\u001b[0;34m\u001b[0m\u001b[0;34m\u001b[0m\u001b[0m\n\u001b[0;32m--> 722\u001b[0;31m             \u001b[0mresult\u001b[0m \u001b[0;34m=\u001b[0m \u001b[0mself\u001b[0m\u001b[0;34m.\u001b[0m\u001b[0mforward\u001b[0m\u001b[0;34m(\u001b[0m\u001b[0;34m*\u001b[0m\u001b[0minput\u001b[0m\u001b[0;34m,\u001b[0m \u001b[0;34m**\u001b[0m\u001b[0mkwargs\u001b[0m\u001b[0;34m)\u001b[0m\u001b[0;34m\u001b[0m\u001b[0;34m\u001b[0m\u001b[0m\n\u001b[0m\u001b[1;32m    723\u001b[0m         for hook in itertools.chain(\n\u001b[1;32m    724\u001b[0m                 \u001b[0m_global_forward_hooks\u001b[0m\u001b[0;34m.\u001b[0m\u001b[0mvalues\u001b[0m\u001b[0;34m(\u001b[0m\u001b[0;34m)\u001b[0m\u001b[0;34m,\u001b[0m\u001b[0;34m\u001b[0m\u001b[0;34m\u001b[0m\u001b[0m\n",
      "\u001b[0;32m~/projects/.venvs/pneumo_seg/lib/python3.7/site-packages/torch/nn/modules/batchnorm.py\u001b[0m in \u001b[0;36mforward\u001b[0;34m(self, input)\u001b[0m\n\u001b[1;32m    134\u001b[0m             \u001b[0mself\u001b[0m\u001b[0;34m.\u001b[0m\u001b[0mrunning_mean\u001b[0m \u001b[0;32mif\u001b[0m \u001b[0;32mnot\u001b[0m \u001b[0mself\u001b[0m\u001b[0;34m.\u001b[0m\u001b[0mtraining\u001b[0m \u001b[0;32mor\u001b[0m \u001b[0mself\u001b[0m\u001b[0;34m.\u001b[0m\u001b[0mtrack_running_stats\u001b[0m \u001b[0;32melse\u001b[0m \u001b[0;32mNone\u001b[0m\u001b[0;34m,\u001b[0m\u001b[0;34m\u001b[0m\u001b[0;34m\u001b[0m\u001b[0m\n\u001b[1;32m    135\u001b[0m             \u001b[0mself\u001b[0m\u001b[0;34m.\u001b[0m\u001b[0mrunning_var\u001b[0m \u001b[0;32mif\u001b[0m \u001b[0;32mnot\u001b[0m \u001b[0mself\u001b[0m\u001b[0;34m.\u001b[0m\u001b[0mtraining\u001b[0m \u001b[0;32mor\u001b[0m \u001b[0mself\u001b[0m\u001b[0;34m.\u001b[0m\u001b[0mtrack_running_stats\u001b[0m \u001b[0;32melse\u001b[0m \u001b[0;32mNone\u001b[0m\u001b[0;34m,\u001b[0m\u001b[0;34m\u001b[0m\u001b[0;34m\u001b[0m\u001b[0m\n\u001b[0;32m--> 136\u001b[0;31m             self.weight, self.bias, bn_training, exponential_average_factor, self.eps)\n\u001b[0m\u001b[1;32m    137\u001b[0m \u001b[0;34m\u001b[0m\u001b[0m\n\u001b[1;32m    138\u001b[0m \u001b[0;34m\u001b[0m\u001b[0m\n",
      "\u001b[0;32m~/projects/.venvs/pneumo_seg/lib/python3.7/site-packages/torch/nn/functional.py\u001b[0m in \u001b[0;36mbatch_norm\u001b[0;34m(input, running_mean, running_var, weight, bias, training, momentum, eps)\u001b[0m\n\u001b[1;32m   2014\u001b[0m     return torch.batch_norm(\n\u001b[1;32m   2015\u001b[0m         \u001b[0minput\u001b[0m\u001b[0;34m,\u001b[0m \u001b[0mweight\u001b[0m\u001b[0;34m,\u001b[0m \u001b[0mbias\u001b[0m\u001b[0;34m,\u001b[0m \u001b[0mrunning_mean\u001b[0m\u001b[0;34m,\u001b[0m \u001b[0mrunning_var\u001b[0m\u001b[0;34m,\u001b[0m\u001b[0;34m\u001b[0m\u001b[0;34m\u001b[0m\u001b[0m\n\u001b[0;32m-> 2016\u001b[0;31m         \u001b[0mtraining\u001b[0m\u001b[0;34m,\u001b[0m \u001b[0mmomentum\u001b[0m\u001b[0;34m,\u001b[0m \u001b[0meps\u001b[0m\u001b[0;34m,\u001b[0m \u001b[0mtorch\u001b[0m\u001b[0;34m.\u001b[0m\u001b[0mbackends\u001b[0m\u001b[0;34m.\u001b[0m\u001b[0mcudnn\u001b[0m\u001b[0;34m.\u001b[0m\u001b[0menabled\u001b[0m\u001b[0;34m\u001b[0m\u001b[0;34m\u001b[0m\u001b[0m\n\u001b[0m\u001b[1;32m   2017\u001b[0m     )\n\u001b[1;32m   2018\u001b[0m \u001b[0;34m\u001b[0m\u001b[0m\n",
      "\u001b[0;31mRuntimeError\u001b[0m: CUDA out of memory. Tried to allocate 256.00 MiB (GPU 0; 7.79 GiB total capacity; 5.60 GiB already allocated; 226.56 MiB free; 5.63 GiB reserved in total by PyTorch)"
     ]
    }
   ],
   "source": [
    " history = KFoldTrainer(train_dataset, params)"
   ]
  },
  {
   "cell_type": "markdown",
   "metadata": {},
   "source": [
    "# Performance Report"
   ]
  },
  {
   "cell_type": "code",
   "execution_count": null,
   "metadata": {},
   "outputs": [],
   "source": [
    "print(\"Loss = mean: {:.3f} | std: {:.3f}\".format(\n",
    "    np.mean([d['val_loss'][-1] for d in history]),\n",
    "    np.std([d['val_loss'][-1] for d in history])\n",
    "))"
   ]
  },
  {
   "cell_type": "code",
   "execution_count": null,
   "metadata": {},
   "outputs": [],
   "source": [
    "print(\"Dice = mean: {:.3f} | std: {:.3f}\".format(\n",
    "    np.mean([d['val_dice'][-1] for d in history]),\n",
    "    np.std([d['val_dice'][-1] for d in history])\n",
    "))"
   ]
  },
  {
   "cell_type": "code",
   "execution_count": null,
   "metadata": {},
   "outputs": [],
   "source": [
    "print(\"IoU = mean: {:.3f} | std: {:.3f}\".format(\n",
    "    np.mean([d['val_iou'][-1] for d in history]), \n",
    "    np.std([d['val_iou'][-1] for d in history])\n",
    "))"
   ]
  },
  {
   "cell_type": "markdown",
   "metadata": {},
   "source": [
    "# Visualization"
   ]
  },
  {
   "cell_type": "code",
   "execution_count": null,
   "metadata": {},
   "outputs": [],
   "source": [
    "ids_val_fold0 = [\n",
    "    'c7b2d2e9-4f5c-4580-8424-8d3d726e453c', '47ff3888-bf35-42cc-a29e-9d6488359f94', \n",
    "    '4e806d37-522c-47cb-95ff-21488a426104', 'fead8485-9e28-4617-8d10-a9a190da5014', \n",
    "    'e225e446-ca02-4b3b-a495-cf61c2687322', '48574d65-277c-49b4-92b2-6f990e79caf0', \n",
    "    'c01395ea-88ea-467e-88bb-94c47569394d', '277da72c-8efa-40c8-92fb-0b2884b44355', \n",
    "    'bb54f8a7-5c2e-43bc-8873-0d657e415946', '0ee8e9d7-50ab-46d7-8db8-152c13f41095', \n",
    "    '402dfd35-ed62-4c02-bf5b-d8cc46a0e8ee', '0ef44f50-5791-43a7-9896-68fbd3d18e9c', \n",
    "    '7b922525-daf7-4674-bfa5-2513e55d2a29', '6d6dccd6-f8c0-45b7-bc16-b9795d042655', \n",
    "    '5e46587f-4f67-4e2a-8808-6c9fdaa6dea5', 'fa1439dd-7166-40a5-8281-54b5df9174ea', \n",
    "    '53729b1b-5b2a-41a1-9ef7-e7a4a4aa7223', 'e358ff00-d6bb-4ca2-a48a-22bb277e099a', \n",
    "    '7c66788f-5e7e-443f-935c-7b7ce00a6c66', '6f801b77-06ce-468a-8e48-1ffeec5ff815', \n",
    "    '5c92550b-2c25-4447-ae41-b155e10c1496', '6376624f-5e0a-47a7-b4da-33dca76dec6c', \n",
    "    'f0f2f5c5-92e3-4267-9103-037f0d2bd181', 'd7b92892-9405-4daf-a706-a48a8487e5ce', \n",
    "    '050e62b3-fb33-4f6a-8c6b-d530c5d554d8', '4001bdbc-9ca5-4607-a7a6-d8fa3f195302', \n",
    "    '3bac13d7-222e-4a52-8726-2eb70f8462df', '9234eeba-d448-4268-be36-ee66fba78df8', \n",
    "    '6780ceaf-71d6-44e0-9b09-d8f821e99e08', '8196ac82-82e8-43c0-abf4-0308f10f13d6', \n",
    "    'c3041102-06e3-48f3-b8f8-1dab16142cbf', 'c09576d7-f0a9-451f-ba0c-23c90fe35e10', \n",
    "    '3a5c46be-fab6-4585-88ed-c682e376ee37', 'f210ecc8-480e-4879-9e2e-dbf1f3d309c4', \n",
    "    '3ce84286-0a8f-4375-9b23-a1f0a62c4a8e', 'ffd3357a-c2eb-4826-a0c5-abccf0df3fe9', \n",
    "    '762bd83d-bc5e-4771-b040-55a93b3435ea', 'eff090dc-6546-4316-ba2a-6c9a5a90764f', \n",
    "    '5c3fe83b-c226-4447-90ee-163f693e24a8', '4c012ba8-5a80-47e9-b9c1-cf8cfbf50965', \n",
    "    '07aa3487-c94f-41e3-8947-effb38e6d64d', '84c2c644-c1fe-47f0-9a8d-900ef87167b9', \n",
    "    '410399d5-2c27-4831-9b2b-c85322eded0c', 'e999be1b-1652-4a2e-adc3-1916a3825505', \n",
    "    'b2019056-3fea-4b8c-8be4-eb91e27e8031', '3296c233-d14d-4467-b6d8-70090aaf19b7', \n",
    "    '2869fa02-1760-4321-b9e2-68e2421bccb6', '2f366d03-c271-44a2-8a74-2ddfed8b055b', \n",
    "    '8fb58c04-1e74-4ca8-99b0-2796f75168d4', '67c9e90f-634f-402f-a2bb-7bfa0fdf2f41', \n",
    "    '882d3757-813e-4a33-9e40-09daeb2690da', 'c1499ea8-9b0e-410b-a1a5-a8e8caf25a7d', \n",
    "    'dfb06563-1c03-48b7-9b97-ba2c90543f5a', '83e9c9a5-e3e2-466c-b52c-147a8e1ba389', \n",
    "    'c3bdf5da-a67e-4db1-b7e8-1df793c7e6b5', 'b92fdd8f-c62a-4302-917b-7cecbcc39ad6', \n",
    "    '24254c26-b2cc-4819-b751-0831f643c8d8', '74f2f120-5457-484c-b4cf-d3752d3a898f', \n",
    "    '17cd523f-8587-4ef7-a43e-6de53dfc2424', 'dcb6f096-5c18-4053-833a-ee3d7460d9ab', \n",
    "    'dd4a4731-3ede-4f5c-a2dc-296bccd82ce9', '9e37e115-7deb-4156-82ee-31f7cde63d45', \n",
    "    'a0b139e4-ff20-485b-b31b-bb3c8bec1c5b', 'f496f0f2-3376-44d5-82e9-bfbe4276d8e2'\n",
    "]"
   ]
  },
  {
   "cell_type": "code",
   "execution_count": null,
   "metadata": {},
   "outputs": [],
   "source": [
    "temp = train_dataset[train_dataset.user_id.isin(ids_val_fold0) & (train_dataset.has_pneumothorax == 1)]"
   ]
  },
  {
   "cell_type": "code",
   "execution_count": null,
   "metadata": {},
   "outputs": [],
   "source": [
    "model_focalmixed = smp.Unet('resnet34', encoder_weights='imagenet', in_channels=1)\n",
    "model_focalmixed.load_state_dict(torch.load('../models/losses_experiment/mixed_focalloss_fold_0_dice_0352.pt'))\n",
    "model_focalmixed = model_focalmixed.to('cuda')"
   ]
  },
  {
   "cell_type": "code",
   "execution_count": null,
   "metadata": {},
   "outputs": [],
   "source": [
    "model_mixed = smp.Unet('resnet34', encoder_weights='imagenet', in_channels=1)\n",
    "model_mixed.load_state_dict(torch.load('../models/losses_experiment/mixed_loss_fold_0_dice_0358.pt'))\n",
    "model_mixed = model_mixed.to('cuda')"
   ]
  },
  {
   "cell_type": "code",
   "execution_count": null,
   "metadata": {},
   "outputs": [],
   "source": [
    "train_loader = get_pneumo_loaders(df=temp, is_train=False, **params['loader_params'])"
   ]
  },
  {
   "cell_type": "code",
   "execution_count": null,
   "metadata": {},
   "outputs": [],
   "source": [
    "with torch.no_grad():\n",
    "    for img, mask in train_loader:\n",
    "        img = img.to('cuda')\n",
    "        predicted_mask = model_focalmixed(img)\n",
    "        predicted_mask_2 = model_mixed(img)\n",
    "        break"
   ]
  },
  {
   "cell_type": "code",
   "execution_count": null,
   "metadata": {},
   "outputs": [],
   "source": [
    "# 0, 2, 4, 3, 6, 7\n",
    "idx = 1\n",
    "\n",
    "p_mask = (nn.Sigmoid()(predicted_mask[idx][0, :, :]).cpu() > .5).int()\n",
    "fig, axes = plt.subplots(nrows=1, ncols=3, figsize=(20, 15))\n",
    "axes[0].imshow(img[idx, 0, :, :].cpu(), cmap='gray')\n",
    "axes[1].imshow(mask[idx, 0, :, :], cmap='gray')\n",
    "axes[2].imshow(p_mask, cmap='gray')\n",
    "plt.tight_layout()\n",
    "\n",
    "p_mask = (nn.Sigmoid()(predicted_mask_2[idx][0, :, :]).cpu() > .5).int()\n",
    "fig, axes = plt.subplots(nrows=1, ncols=3, figsize=(20, 15))\n",
    "axes[0].imshow(img[idx, 0, :, :].cpu(), cmap='gray')\n",
    "axes[1].imshow(mask[idx, 0, :, :], cmap='gray')\n",
    "axes[2].imshow(p_mask, cmap='gray')\n",
    "plt.tight_layout()"
   ]
  },
  {
   "cell_type": "code",
   "execution_count": null,
   "metadata": {},
   "outputs": [],
   "source": []
  }
 ],
 "metadata": {
  "kernelspec": {
   "display_name": "pneumo_seg",
   "language": "python",
   "name": "pneumo_seg"
  },
  "language_info": {
   "codemirror_mode": {
    "name": "ipython",
    "version": 3
   },
   "file_extension": ".py",
   "mimetype": "text/x-python",
   "name": "python",
   "nbconvert_exporter": "python",
   "pygments_lexer": "ipython3",
   "version": "3.7.4"
  }
 },
 "nbformat": 4,
 "nbformat_minor": 2
}
